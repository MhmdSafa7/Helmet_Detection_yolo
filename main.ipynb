{
  "nbformat": 4,
  "nbformat_minor": 0,
  "metadata": {
    "colab": {
      "provenance": [],
      "toc_visible": true,
      "gpuType": "T4",
      "authorship_tag": "ABX9TyMAvQKdGk64Lor6mWvY9oCi",
      "include_colab_link": true
    },
    "kernelspec": {
      "name": "python3",
      "display_name": "Python 3"
    },
    "language_info": {
      "name": "python"
    },
    "accelerator": "GPU"
  },
  "cells": [
    {
      "cell_type": "markdown",
      "metadata": {
        "id": "view-in-github",
        "colab_type": "text"
      },
      "source": [
        "<a href=\"https://colab.research.google.com/github/MhmdSafa7/Helmet_Detection_yolo/blob/main/main.ipynb\" target=\"_parent\"><img src=\"https://colab.research.google.com/assets/colab-badge.svg\" alt=\"Open In Colab\"/></a>"
      ]
    },
    {
      "cell_type": "code",
      "source": [
        "import os\n",
        "import cv2\n",
        "import pandas as pd"
      ],
      "metadata": {
        "id": "Vl3W8Usqowf1"
      },
      "execution_count": 1,
      "outputs": []
    },
    {
      "cell_type": "code",
      "execution_count": 2,
      "metadata": {
        "colab": {
          "base_uri": "https://localhost:8080/"
        },
        "id": "eO1FTse6mW44",
        "outputId": "ea088252-a194-43b8-d0ad-184b453ecf75"
      },
      "outputs": [
        {
          "output_type": "stream",
          "name": "stdout",
          "text": [
            "Mounted at /content/drive\n"
          ]
        }
      ],
      "source": [
        "from google.colab import drive\n",
        "drive.mount('/content/drive')\n"
      ]
    },
    {
      "cell_type": "code",
      "source": [
        "import os\n",
        "import shutil\n",
        "\n",
        "base_path = '/content/drive/MyDrive/Colab Notebooks/Helmet_Data'\n",
        "annotations_path = os.path.join(base_path, 'annotations')\n",
        "images_path = os.path.join(base_path, 'images')\n",
        "\n",
        "yolo_dataset_path = os.path.join(base_path, 'yolo_dataset')\n",
        "os.makedirs(yolo_dataset_path, exist_ok=True)\n",
        "\n"
      ],
      "metadata": {
        "id": "WyKL9gtyn0uX"
      },
      "execution_count": 3,
      "outputs": []
    },
    {
      "cell_type": "code",
      "source": [
        "import os\n",
        "import xml.etree.ElementTree as ET\n",
        "\n",
        "CLASS_NAMES = [\"helmet\", \"person\", \"head\"]\n",
        "\n",
        "# Work locally instead of directly in Drive\n",
        "yolo_dataset_path = '/content/yolo_dataset'\n",
        "annotations_path = '/content/drive/MyDrive/Colab Notebooks/Helmet_Data/annotations'\n",
        "os.makedirs(yolo_dataset_path, exist_ok=True)\n",
        "output_labels_dir = os.path.join(yolo_dataset_path, \"labels\")\n",
        "os.makedirs(output_labels_dir, exist_ok=True)\n",
        "\n",
        "def convert_voc_to_yolo(xml_file, output_dir):\n",
        "    tree = ET.parse(xml_file)\n",
        "    root = tree.getroot()\n",
        "\n",
        "    size = root.find('size')\n",
        "    if size is None:  # if file missing size info\n",
        "        return\n",
        "    w = int(size.find('width').text)\n",
        "    h = int(size.find('height').text)\n",
        "\n",
        "    file_name = os.path.splitext(os.path.basename(xml_file))[0] + \".txt\"\n",
        "    with open(os.path.join(output_dir, file_name), \"w\") as out_file:\n",
        "        for obj in root.iter('object'):\n",
        "            cls = obj.find('name').text\n",
        "            if cls not in CLASS_NAMES:\n",
        "                continue\n",
        "            cls_id = CLASS_NAMES.index(cls)\n",
        "\n",
        "            xml_box = obj.find('bndbox')\n",
        "            xmin = float(xml_box.find('xmin').text)\n",
        "            ymin = float(xml_box.find('ymin').text)\n",
        "            xmax = float(xml_box.find('xmax').text)\n",
        "            ymax = float(xml_box.find('ymax').text)\n",
        "\n",
        "            x_center = (xmin + xmax) / (2.0 * w)\n",
        "            y_center = (ymin + ymax) / (2.0 * h)\n",
        "            width = (xmax - xmin) / w\n",
        "            height = (ymax - ymin) / h\n",
        "\n",
        "            out_file.write(f\"{cls_id} {x_center:.6f} {y_center:.6f} {width:.6f} {height:.6f}\\n\")\n",
        "\n",
        "# Convert XMLs locally\n",
        "for xml_file in os.listdir(annotations_path):\n",
        "    if xml_file.endswith(\".xml\"):\n",
        "        convert_voc_to_yolo(os.path.join(annotations_path, xml_file), output_labels_dir)\n",
        "\n",
        "# Then copy the final dataset back to Drive safely\n",
        "!cp -r /content/yolo_dataset /content/drive/MyDrive/Colab\\ Notebooks/Helmet_Data/\n",
        "print(\"✅ Conversion done and copied to Drive!\")\n"
      ],
      "metadata": {
        "id": "gM_dESQUn8s3"
      },
      "execution_count": null,
      "outputs": []
    },
    {
      "cell_type": "code",
      "source": [
        "from sklearn.model_selection import train_test_split\n",
        "import random\n",
        "\n",
        "images = [f for f in os.listdir(images_path) if f.endswith('.jpg') or f.endswith('.png')]\n",
        "\n",
        "train_imgs, temp_imgs = train_test_split(images, test_size=0.3, random_state=42)\n",
        "val_imgs, test_imgs = train_test_split(temp_imgs, test_size=0.33, random_state=42)\n",
        "\n",
        "splits = {'train': train_imgs, 'val': val_imgs, 'test': test_imgs}\n",
        "\n",
        "for split, imgs in splits.items():\n",
        "    img_dir = os.path.join(yolo_dataset_path, split, 'images')\n",
        "    lbl_dir = os.path.join(yolo_dataset_path, split, 'labels')\n",
        "    os.makedirs(img_dir, exist_ok=True)\n",
        "    os.makedirs(lbl_dir, exist_ok=True)\n",
        "\n",
        "    for img_name in imgs:\n",
        "        shutil.copy(os.path.join(images_path, img_name), img_dir)\n",
        "        txt_name = os.path.splitext(img_name)[0] + \".txt\"\n",
        "        src_label = os.path.join(output_labels_dir, txt_name)\n",
        "        if os.path.exists(src_label):\n",
        "            shutil.copy(src_label, lbl_dir)\n"
      ],
      "metadata": {
        "id": "9pJNnz-Xrtm-"
      },
      "execution_count": null,
      "outputs": []
    },
    {
      "cell_type": "code",
      "source": [
        "yaml_content = f\"\"\"\n",
        "train: {yolo_dataset_path}/train/images\n",
        "val: {yolo_dataset_path}/val/images\n",
        "test: {yolo_dataset_path}/test/images\n",
        "\n",
        "nc: {len(CLASS_NAMES)}\n",
        "names: {CLASS_NAMES}\n",
        "\"\"\"\n",
        "\n",
        "with open(os.path.join(yolo_dataset_path, \"data.yaml\"), \"w\") as f:\n",
        "    f.write(yaml_content)\n",
        "\n",
        "print(\"✅ data.yaml created successfully!\")\n"
      ],
      "metadata": {
        "id": "WKkE6JvbqV9c"
      },
      "execution_count": null,
      "outputs": []
    }
  ]
}